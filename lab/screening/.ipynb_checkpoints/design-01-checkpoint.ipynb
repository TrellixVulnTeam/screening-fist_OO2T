{
 "cells": [
  {
   "cell_type": "markdown",
   "id": "c98c3b0d-5dd9-40a1-8c67-d6167af31576",
   "metadata": {},
   "source": [
    "## Selection"
   ]
  },
  {
   "cell_type": "code",
   "execution_count": 1,
   "id": "4b05a42b-2797-4b65-b018-1e62c4e662c0",
   "metadata": {},
   "outputs": [
    {
     "name": "stdout",
     "output_type": "stream",
     "text": [
      "978 Index(['Item Name', 'CatalogNumber', 'SMILES', 'Rack Number',\n",
      "       'Plate Location'],\n",
      "      dtype='object')\n"
     ]
    },
    {
     "data": {
      "text/html": [
       "<div>\n",
       "<style scoped>\n",
       "    .dataframe tbody tr th:only-of-type {\n",
       "        vertical-align: middle;\n",
       "    }\n",
       "\n",
       "    .dataframe tbody tr th {\n",
       "        vertical-align: top;\n",
       "    }\n",
       "\n",
       "    .dataframe thead th {\n",
       "        text-align: right;\n",
       "    }\n",
       "</style>\n",
       "<table border=\"1\" class=\"dataframe\">\n",
       "  <thead>\n",
       "    <tr style=\"text-align: right;\">\n",
       "      <th></th>\n",
       "      <th>Item Name</th>\n",
       "      <th>CatalogNumber</th>\n",
       "      <th>SMILES</th>\n",
       "      <th>Rack Number</th>\n",
       "      <th>Plate Location</th>\n",
       "    </tr>\n",
       "  </thead>\n",
       "  <tbody>\n",
       "    <tr>\n",
       "      <th>0</th>\n",
       "      <td>Axitinib</td>\n",
       "      <td>S1005</td>\n",
       "      <td>CNC(=O)C1=CC=CC=C1SC1=CC2=C(C=C1)C(\\C=C\\C1=CC=...</td>\n",
       "      <td>L1300-01</td>\n",
       "      <td>a1</td>\n",
       "    </tr>\n",
       "    <tr>\n",
       "      <th>1</th>\n",
       "      <td>Afatinib (BIBW2992)</td>\n",
       "      <td>S1011</td>\n",
       "      <td>CN(C)C\\C=C\\C(=O)NC1=CC2=C(NC3=CC=C(F)C(Cl)=C3)...</td>\n",
       "      <td>L1300-01</td>\n",
       "      <td>b1</td>\n",
       "    </tr>\n",
       "    <tr>\n",
       "      <th>2</th>\n",
       "      <td>Bortezomib (Velcade)</td>\n",
       "      <td>S1013</td>\n",
       "      <td>CC(C)C[C@H](NC(=O)[C@H](CC1=CC=CC=C1)NC(=O)C1=...</td>\n",
       "      <td>L1300-01</td>\n",
       "      <td>c1</td>\n",
       "    </tr>\n",
       "    <tr>\n",
       "      <th>3</th>\n",
       "      <td>Bosutinib (SKI-606)</td>\n",
       "      <td>S1014</td>\n",
       "      <td>COC1=C(Cl)C=C(Cl)C(NC2=C(C=NC3=CC(OCCCN4CCN(C)...</td>\n",
       "      <td>L1300-01</td>\n",
       "      <td>d1</td>\n",
       "    </tr>\n",
       "    <tr>\n",
       "      <th>4</th>\n",
       "      <td>Dasatinib (BMS-354825)</td>\n",
       "      <td>S1021</td>\n",
       "      <td>CC1=NC(NC2=NC=C(S2)C(=O)NC2=C(Cl)C=CC=C2C)=CC(...</td>\n",
       "      <td>L1300-01</td>\n",
       "      <td>e1</td>\n",
       "    </tr>\n",
       "  </tbody>\n",
       "</table>\n",
       "</div>"
      ],
      "text/plain": [
       "                Item Name CatalogNumber  \\\n",
       "0                Axitinib         S1005   \n",
       "1     Afatinib (BIBW2992)         S1011   \n",
       "2    Bortezomib (Velcade)         S1013   \n",
       "3     Bosutinib (SKI-606)         S1014   \n",
       "4  Dasatinib (BMS-354825)         S1021   \n",
       "\n",
       "                                              SMILES Rack Number  \\\n",
       "0  CNC(=O)C1=CC=CC=C1SC1=CC2=C(C=C1)C(\\C=C\\C1=CC=...    L1300-01   \n",
       "1  CN(C)C\\C=C\\C(=O)NC1=CC2=C(NC3=CC=C(F)C(Cl)=C3)...    L1300-01   \n",
       "2  CC(C)C[C@H](NC(=O)[C@H](CC1=CC=CC=C1)NC(=O)C1=...    L1300-01   \n",
       "3  COC1=C(Cl)C=C(Cl)C(NC2=C(C=NC3=CC(OCCCN4CCN(C)...    L1300-01   \n",
       "4  CC1=NC(NC2=NC=C(S2)C(=O)NC2=C(Cl)C=CC=C2C)=CC(...    L1300-01   \n",
       "\n",
       "  Plate Location  \n",
       "0             a1  \n",
       "1             b1  \n",
       "2             c1  \n",
       "3             d1  \n",
       "4             e1  "
      ]
     },
     "execution_count": 1,
     "metadata": {},
     "output_type": "execute_result"
    }
   ],
   "source": [
    "import numpy as np\n",
    "import pandas as pd\n",
    "import matplotlib.pyplot as plt\n",
    "plt.style.use('dark_background')\n",
    "from rdkit.Chem import AllChem as Chem\n",
    "\n",
    "df = pd.read_csv('layouts.csv', index_col=0)\n",
    "print(len(df), df.columns)\n",
    "df.head()"
   ]
  },
  {
   "cell_type": "code",
   "execution_count": 2,
   "id": "fca02732-597e-4b14-880b-33f4d08f337c",
   "metadata": {},
   "outputs": [
    {
     "name": "stdout",
     "output_type": "stream",
     "text": [
      "(978, 2048)\n"
     ]
    },
    {
     "data": {
      "text/plain": [
       "array([[1, 1, 0, ..., 1, 0, 1],\n",
       "       [1, 0, 1, ..., 0, 0, 1],\n",
       "       [1, 1, 0, ..., 0, 1, 1],\n",
       "       ...,\n",
       "       [1, 1, 1, ..., 0, 1, 1],\n",
       "       [1, 0, 1, ..., 0, 0, 1],\n",
       "       [1, 0, 1, ..., 0, 0, 1]])"
      ]
     },
     "execution_count": 2,
     "metadata": {},
     "output_type": "execute_result"
    }
   ],
   "source": [
    "df['mols'] = [Chem.MolFromSmiles(i) for i in df.SMILES]\n",
    "fps = np.array([Chem.RDKFingerprint(i) for i in df['mols']])\n",
    "print(fps.shape)\n",
    "fps"
   ]
  },
  {
   "cell_type": "code",
   "execution_count": 21,
   "id": "e3b5c786-f5c8-4151-8ddc-c5a187ed4ed7",
   "metadata": {},
   "outputs": [
    {
     "data": {
      "text/plain": [
       "963"
      ]
     },
     "execution_count": 21,
     "metadata": {},
     "output_type": "execute_result"
    }
   ],
   "source": [
    "# can't use lru_cache - not hashable\n",
    "def ham(a, b):\n",
    "    return sum(abs(a - b))\n",
    "\n",
    "ham(fps[0], fps[1])"
   ]
  },
  {
   "cell_type": "code",
   "execution_count": null,
   "id": "71f6d385-81df-4d49-a0dd-58a78d70bcbf",
   "metadata": {},
   "outputs": [],
   "source": []
  },
  {
   "cell_type": "code",
   "execution_count": 23,
   "id": "648e744c-8729-4440-9ecc-07631a0a8c95",
   "metadata": {},
   "outputs": [
    {
     "data": {
      "text/plain": [
       "-5444753056086659255"
      ]
     },
     "execution_count": 23,
     "metadata": {},
     "output_type": "execute_result"
    }
   ],
   "source": [
    "'str'.__hash__()"
   ]
  },
  {
   "cell_type": "code",
   "execution_count": 24,
   "id": "02485a60-1cda-4b41-9bc0-7dae8889ea41",
   "metadata": {},
   "outputs": [
    {
     "data": {
      "text/plain": [
       "-5444753056086659255"
      ]
     },
     "execution_count": 24,
     "metadata": {},
     "output_type": "execute_result"
    }
   ],
   "source": [
    "fps.__"
   ]
  }
 ],
 "metadata": {
  "kernelspec": {
   "display_name": "Python 3 (ipykernel)",
   "language": "python",
   "name": "python3"
  },
  "language_info": {
   "codemirror_mode": {
    "name": "ipython",
    "version": 3
   },
   "file_extension": ".py",
   "mimetype": "text/x-python",
   "name": "python",
   "nbconvert_exporter": "python",
   "pygments_lexer": "ipython3",
   "version": "3.7.11"
  }
 },
 "nbformat": 4,
 "nbformat_minor": 5
}
