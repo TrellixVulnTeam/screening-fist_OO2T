{
 "cells": [
  {
   "cell_type": "markdown",
   "id": "0c859594-9bd8-40b3-a9fb-547e999e9454",
   "metadata": {},
   "source": [
    "# Inventory"
   ]
  },
  {
   "cell_type": "code",
   "execution_count": 1,
   "id": "97ee99b0-370e-4b30-9309-71d49d749ec1",
   "metadata": {},
   "outputs": [
    {
     "name": "stdout",
     "output_type": "stream",
     "text": [
      "Time to dispense 1 plate: 0:05:49.090909\n",
      "Time to dispense 15 plates: 1:27:16.363635\n",
      "Time to read 1 plate: 0:10:54.545455\n",
      "Time to read 15 plates: 2:43:38.181825\n",
      "Bulk Vol per plate: 15.36 ml\n",
      "Bulk Vol per 15 plates: 230.4 ml\n",
      "Stock Protein vol: 7680.0 µl (300 µM stock)\n",
      "Cpds per plate 76ish\n"
     ]
    }
   ],
   "source": [
    "import datetime\n",
    "\n",
    "nThermoPlates = 154\n",
    "nEchoPlates = 40\n",
    "\n",
    "# from 00.3, 11 plates\n",
    "tDispense11 = datetime.timedelta(hours=1, minutes=4) \n",
    "tRead11 = datetime.timedelta(hours=2)\n",
    "\n",
    "tDispensePlate = tDispense11 / 11\n",
    "tReadPlate = tRead11 / 11\n",
    "\n",
    "volPerWell = 40\n",
    "fluidPlate = 384 * volPerWell # ul\n",
    "\n",
    "nPlates = 15\n",
    "totalVol = nPlates * fluidPlate # ul\n",
    "\n",
    "def v1(c1,c2,v2):\n",
    "    return (c2 * v2) / c1\n",
    "\n",
    "proteinConc = 300 # eg stock conc\n",
    "proteinStockReq = v1(proteinConc, 10, totalVol)\n",
    "\n",
    "cpdsPerPlate = 384 // (nConcs:=5)\n",
    "\n",
    "print(f'Time to dispense 1 plate: {tDispensePlate}')\n",
    "print(f'Time to dispense {nPlates} plates: {tDispensePlate*nPlates}')\n",
    "print(f'Time to read 1 plate: {tReadPlate}')\n",
    "print(f'Time to read {nPlates} plates: {tReadPlate*nPlates}')\n",
    "print(f'Bulk Vol per plate: {fluidPlate / 1000} ml')\n",
    "print(f'Bulk Vol per {nPlates} plates: {totalVol / 1000} ml')\n",
    "print(f'Stock Protein vol: {proteinStockReq} µl ({proteinConc} µM stock)')\n",
    "print(f'Cpds per plate {cpdsPerPlate}ish') # doesn't consider empty wells"
   ]
  },
  {
   "cell_type": "code",
   "execution_count": 2,
   "id": "de888dd2-fbcc-4aa0-8c63-7d03f92c917b",
   "metadata": {},
   "outputs": [
    {
     "data": {
      "text/plain": [
       "3.75"
      ]
     },
     "execution_count": 2,
     "metadata": {},
     "output_type": "execute_result"
    }
   ],
   "source": [
    "import numpy as np\n",
    "cpdVolPerPlate = sum(np.linspace(0,1,nConcs)**2 * (0.05*volPerWell))\n",
    "cpdVolPerPlate # ul"
   ]
  },
  {
   "cell_type": "code",
   "execution_count": 3,
   "id": "faf0c45a-374c-49f2-b0f7-12e318da9be1",
   "metadata": {},
   "outputs": [
    {
     "name": "stdout",
     "output_type": "stream",
     "text": [
      "nDestPerSrc  1 vol remaining:  4.75\n",
      "nDestPerSrc  2 vol remaining:  1.0\n",
      "nDestPerSrc  3 vol remaining:  -2.75\n"
     ]
    }
   ],
   "source": [
    "for i in range(1,4):\n",
    "    print('nDestPerSrc ', i, 'vol remaining: ', 11 - 2.5 - (i*cpdVolPerPlate))"
   ]
  },
  {
   "cell_type": "code",
   "execution_count": 4,
   "id": "5ed06fe4-5c4e-4ddd-985b-d2cb1da44777",
   "metadata": {},
   "outputs": [
    {
     "data": {
      "text/plain": [
       "2.35"
      ]
     },
     "execution_count": 4,
     "metadata": {},
     "output_type": "execute_result"
    }
   ],
   "source": [
    "volFluidScreen = fluidPlate/1000 * (980/96)\n",
    "volConcProtPerScreen = (volFluidScreen / 20) * 0.3\n",
    "round(volConcProtPerScreen, 2) # about 3 tubes"
   ]
  },
  {
   "cell_type": "code",
   "execution_count": null,
   "id": "5f0eedbc-e191-49d2-a4b8-1fefd0207ffb",
   "metadata": {},
   "outputs": [],
   "source": []
  }
 ],
 "metadata": {
  "kernelspec": {
   "display_name": "Python 3 (ipykernel)",
   "language": "python",
   "name": "python3"
  },
  "language_info": {
   "codemirror_mode": {
    "name": "ipython",
    "version": 3
   },
   "file_extension": ".py",
   "mimetype": "text/x-python",
   "name": "python",
   "nbconvert_exporter": "python",
   "pygments_lexer": "ipython3",
   "version": "3.8.12"
  }
 },
 "nbformat": 4,
 "nbformat_minor": 5
}
