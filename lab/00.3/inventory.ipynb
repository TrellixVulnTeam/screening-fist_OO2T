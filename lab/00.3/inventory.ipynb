{
 "cells": [
  {
   "cell_type": "markdown",
   "id": "0c859594-9bd8-40b3-a9fb-547e999e9454",
   "metadata": {},
   "source": [
    "# Inventory"
   ]
  },
  {
   "cell_type": "code",
   "execution_count": 1,
   "id": "97ee99b0-370e-4b30-9309-71d49d749ec1",
   "metadata": {},
   "outputs": [
    {
     "data": {
      "text/plain": [
       "96"
      ]
     },
     "execution_count": 1,
     "metadata": {},
     "output_type": "execute_result"
    }
   ],
   "source": [
    "import datetime\n",
    "\n",
    "nThermoPlates = 154\n",
    "nEchoPlates = 40\n",
    "\n",
    "tDispense11 = datetime.timedelta(hours=1, minutes=4)\n",
    "tDispensePlate = tDispense11 / 11\n",
    "\n",
    "tRead11 = datetime.timedelta(hours=2)\n",
    "tReadPlate = tRead11 / 11\n",
    "\n",
    "volPerWell = 40\n",
    "fluidPlate = 384 * volPerWell # ul\n",
    "\n",
    "cpdsPerPlate = 384 // (nConcs:=4)\n",
    "\n",
    "cpdsPerPlate"
   ]
  },
  {
   "cell_type": "code",
   "execution_count": 2,
   "id": "de888dd2-fbcc-4aa0-8c63-7d03f92c917b",
   "metadata": {},
   "outputs": [
    {
     "data": {
      "text/plain": [
       "3.111111111111111"
      ]
     },
     "execution_count": 2,
     "metadata": {},
     "output_type": "execute_result"
    }
   ],
   "source": [
    "import numpy as np\n",
    "cpdVolPerPlate = sum(np.linspace(0,1,nConcs)**2 * (0.05*volPerWell))\n",
    "cpdVolPerPlate # ul"
   ]
  },
  {
   "cell_type": "code",
   "execution_count": 6,
   "id": "faf0c45a-374c-49f2-b0f7-12e318da9be1",
   "metadata": {},
   "outputs": [
    {
     "name": "stdout",
     "output_type": "stream",
     "text": [
      "nDestPerSrc  1 vol remaining:  5.388888888888889\n",
      "nDestPerSrc  2 vol remaining:  2.2777777777777777\n",
      "nDestPerSrc  3 vol remaining:  -0.8333333333333339\n"
     ]
    }
   ],
   "source": [
    "for i in range(1,4):\n",
    "    print('nDestPerSrc ', i, 'vol remaining: ', 11 - 2.5 - (i*cpdVolPerPlate))"
   ]
  },
  {
   "cell_type": "code",
   "execution_count": 4,
   "id": "5ed06fe4-5c4e-4ddd-985b-d2cb1da44777",
   "metadata": {},
   "outputs": [
    {
     "data": {
      "text/plain": [
       "2.35"
      ]
     },
     "execution_count": 4,
     "metadata": {},
     "output_type": "execute_result"
    }
   ],
   "source": [
    "volFluidScreen = fluidPlate/1000 * (980/96)\n",
    "volConcProtPerScreen = (volFluidScreen / 20) * 0.3\n",
    "round(volConcProtPerScreen, 2) # about 3 tubes"
   ]
  }
 ],
 "metadata": {
  "kernelspec": {
   "display_name": "Python 3 (ipykernel)",
   "language": "python",
   "name": "python3"
  },
  "language_info": {
   "codemirror_mode": {
    "name": "ipython",
    "version": 3
   },
   "file_extension": ".py",
   "mimetype": "text/x-python",
   "name": "python",
   "nbconvert_exporter": "python",
   "pygments_lexer": "ipython3",
   "version": "3.8.10"
  }
 },
 "nbformat": 4,
 "nbformat_minor": 5
}
