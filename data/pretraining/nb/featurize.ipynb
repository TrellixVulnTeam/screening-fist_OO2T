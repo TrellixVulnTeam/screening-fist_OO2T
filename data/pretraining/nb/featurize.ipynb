{
 "cells": [
  {
   "cell_type": "code",
   "execution_count": 3,
   "id": "b2e0347a-7426-47c2-8797-ccd39bdf9f1e",
   "metadata": {},
   "outputs": [
    {
     "name": "stdout",
     "output_type": "stream",
     "text": [
      "907213 226803\n",
      "CPU times: user 5.49 s, sys: 860 ms, total: 6.35 s\n",
      "Wall time: 7.37 s\n"
     ]
    }
   ],
   "source": [
    "%%time\n",
    "import pandas as pd\n",
    "\n",
    "train = pd.read_csv('o3f.train.csv')\n",
    "test = pd.read_csv('o3f.test.csv')\n",
    "print(len(train), len(test))"
   ]
  },
  {
   "cell_type": "code",
   "execution_count": 4,
   "id": "191df53e-ad78-4a0d-8d35-08a5012b17d8",
   "metadata": {},
   "outputs": [
    {
     "name": "stdout",
     "output_type": "stream",
     "text": [
      "[<rdkit.Chem.rdchem.Mol object at 0x7f1d464f0d00>, <rdkit.Chem.rdchem.Mol object at 0x7f1d464f0cb0>, <rdkit.Chem.rdchem.Mol object at 0x7f1d464f0da0>]\n",
      "CPU times: user 950 ms, sys: 28.9 ms, total: 978 ms\n",
      "Wall time: 1.04 s\n"
     ]
    }
   ],
   "source": [
    "%%time\n",
    "from multiprocessing import pool\n",
    "from rdkit.Chem import AllChem as Chem\n",
    "\n",
    "with pool.ThreadPool(4) as ppool:\n",
    "    mols = ppool.map(lambda s : Chem.MolFromSmiles(s), train['smiles'][:4096])\n",
    "print(mols[:3])"
   ]
  },
  {
   "cell_type": "code",
   "execution_count": 6,
   "id": "136b53fa-df23-4d93-98b3-267a7b072fb0",
   "metadata": {},
   "outputs": [
    {
     "data": {
      "text/plain": [
       "{'a': 2}"
      ]
     },
     "execution_count": 6,
     "metadata": {},
     "output_type": "execute_result"
    }
   ],
   "source": [
    "dict(a=2)"
   ]
  },
  {
   "cell_type": "code",
   "execution_count": 15,
   "id": "ee0f3d3a-fe7a-4d80-8d1b-5c0c9d9ff361",
   "metadata": {},
   "outputs": [
    {
     "data": {
      "text/plain": [
       "['CalcRMS',\n",
       " 'CalcCrippenDescriptors',\n",
       " 'CalcLabuteASA',\n",
       " 'CalcTPSA',\n",
       " 'CalcExactMolWt',\n",
       " 'CalcMolFormula',\n",
       " 'CalcNumLipinskiHBD',\n",
       " 'CalcNumLipinskiHBA',\n",
       " 'CalcNumHBD',\n",
       " 'CalcNumHBA',\n",
       " 'CalcNumRotatableBonds',\n",
       " 'CalcNumRings',\n",
       " 'CalcNumAromaticRings',\n",
       " 'CalcNumSaturatedRings',\n",
       " 'CalcNumHeterocycles',\n",
       " 'CalcNumAromaticHeterocycles',\n",
       " 'CalcNumAromaticCarbocycles',\n",
       " 'CalcNumSaturatedHeterocycles',\n",
       " 'CalcNumSaturatedCarbocycles',\n",
       " 'CalcNumAliphaticRings',\n",
       " 'CalcNumAliphaticHeterocycles',\n",
       " 'CalcNumAliphaticCarbocycles',\n",
       " 'CalcNumHeteroatoms',\n",
       " 'CalcNumAmideBonds',\n",
       " 'CalcFractionCSP3',\n",
       " 'CalcChiNv',\n",
       " 'CalcChi0v',\n",
       " 'CalcChi1v',\n",
       " 'CalcChi2v',\n",
       " 'CalcChi3v',\n",
       " 'CalcChi4v',\n",
       " 'CalcChiNn',\n",
       " 'CalcChi0n',\n",
       " 'CalcChi1n',\n",
       " 'CalcChi2n',\n",
       " 'CalcChi3n',\n",
       " 'CalcChi4n',\n",
       " 'CalcHallKierAlpha',\n",
       " 'CalcKappa1',\n",
       " 'CalcKappa2',\n",
       " 'CalcKappa3',\n",
       " 'CalcNumSpiroAtoms',\n",
       " 'CalcNumBridgeheadAtoms',\n",
       " 'CalcNumAtomStereoCenters',\n",
       " 'CalcNumUnspecifiedAtomStereoCenters',\n",
       " 'CalcCoulombMat',\n",
       " 'CalcEEMcharges',\n",
       " 'CalcWHIM',\n",
       " 'CalcGETAWAY',\n",
       " 'CalcRDF',\n",
       " 'CalcMORSE',\n",
       " 'CalcAUTOCORR3D',\n",
       " 'CalcPBF',\n",
       " 'CalcNPR1',\n",
       " 'CalcNPR2',\n",
       " 'CalcPMI1',\n",
       " 'CalcPMI2',\n",
       " 'CalcPMI3',\n",
       " 'CalcRadiusOfGyration',\n",
       " 'CalcInertialShapeFactor',\n",
       " 'CalcEccentricity',\n",
       " 'CalcAsphericity',\n",
       " 'CalcSpherocityIndex',\n",
       " 'CalcAUTOCORR2D']"
      ]
     },
     "execution_count": 15,
     "metadata": {},
     "output_type": "execute_result"
    }
   ],
   "source": [
    "[i for i in Chem.__dict__ if 'Calc' in i]"
   ]
  },
  {
   "cell_type": "code",
   "execution_count": 13,
   "id": "ee8a89a8-e3cb-4524-a3ee-e8d58af34845",
   "metadata": {},
   "outputs": [
    {
     "data": {
      "text/plain": [
       "'C[C@]1(CS(=O)(=O)[C@@](C)(C2CC2)C(N)=N1)c1cc(Nc2ncnc3cc(Br)cnc23)ncc1F'"
      ]
     },
     "execution_count": 13,
     "metadata": {},
     "output_type": "execute_result"
    }
   ],
   "source": [
    "s0=train['smiles'][0]\n",
    "s0"
   ]
  },
  {
   "cell_type": "code",
   "execution_count": null,
   "id": "98728566-f670-4176-8777-38bb711f0831",
   "metadata": {},
   "outputs": [],
   "source": [
    "%%time\n",
    "\n",
    "fns = ['CalcExactMolWt', 'CalcNumLipinskiHBD', 'CalcNumLipinskiHBA', 'CalcNumHBD', 'CalcNumHBA', \n",
    "       'CalcNumRotatableBonds', 'CalcNumRings', 'CalcNumAromaticRings', 'CalcNumSaturatedRings', \n",
    "       'CalcNumHeterocycles', 'CalcNumAromaticHeterocycles', 'CalcNumAromaticCarbocycles', 'CalcNumSaturatedHeterocycles', \n",
    "       'CalcNumSaturatedCarbocycles', 'CalcNumAliphaticRings', 'CalcNumAliphaticHeterocycles', 'CalcNumAliphaticCarbocycles', \n",
    "       'CalcNumHeteroatoms', 'CalcNumAmideBonds', 'CalcFractionCSP3', \n",
    "       'CalcChi1v', 'CalcChi2v', 'CalcChi3v', 'CalcChi4v']  \n",
    "\n",
    "def ft_smiles(smiles):\n",
    "    m = Chem.MolFromSmiles(smiles)\n",
    "    mh = Chem.AddHs(m)\n",
    "    #d = {i.replace('Calc',''):Chem.__dict__[i](mh) for i in fns}\n",
    "    d = {}\n",
    "    for i in fns:\n",
    "        try:\n",
    "            d[i] = Chem.__dict__[i](mh)\n",
    "        except:\n",
    "            pass\n",
    "    return d\n",
    "\n",
    "test_props = pd.DataFrame(test['smiles'].apply(ft_smiles).to_list())\n",
    "test_props['smiles'] = test['smiles']\n",
    "test_props.to_csv('test_props.csv', index=False)\n",
    "\n",
    "train_props = pd.DataFrame(train['smiles'].apply(ft_smiles).to_list())\n",
    "train_props['smiles'] = train['smiles']\n",
    "train_props.to_csv('train_props.csv', index=False)"
   ]
  },
  {
   "cell_type": "code",
   "execution_count": null,
   "id": "23a19fb6-f33b-4b94-ab09-34d5d7aec989",
   "metadata": {},
   "outputs": [],
   "source": []
  }
 ],
 "metadata": {
  "kernelspec": {
   "display_name": "Python 3 (ipykernel)",
   "language": "python",
   "name": "python3"
  },
  "language_info": {
   "codemirror_mode": {
    "name": "ipython",
    "version": 3
   },
   "file_extension": ".py",
   "mimetype": "text/x-python",
   "name": "python",
   "nbconvert_exporter": "python",
   "pygments_lexer": "ipython3",
   "version": "3.7.13"
  }
 },
 "nbformat": 4,
 "nbformat_minor": 5
}
