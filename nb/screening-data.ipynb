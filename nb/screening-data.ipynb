{
 "cells": [
  {
   "cell_type": "code",
   "execution_count": 1,
   "id": "55f7cd31-377b-4593-b53c-caba284d6cbd",
   "metadata": {},
   "outputs": [
    {
     "name": "stdout",
     "output_type": "stream",
     "text": [
      "616 unique scaffolds out of 978\n"
     ]
    }
   ],
   "source": [
    "import pandas as pd\n",
    "from rdkit.Chem import AllChem as Chem\n",
    "from rdkit.Chem import Draw\n",
    "from rdkit.Chem.Scaffolds import MurckoScaffold\n",
    "\n",
    "df = pd.read_csv('manual-annot.tsv', delimiter='\\t')\n",
    "lib = pd.read_csv('../data/lib/layouts.csv',index_col=0)\n",
    "\n",
    "lib_mols = [Chem.MolFromSmiles(i) for i in lib['SMILES']]\n",
    "lib_scaffs = [MurckoScaffold.GetScaffoldForMol(i) for i in lib_mols]\n",
    "lib_scaff_smiles = [MurckoScaffold.MurckoScaffoldSmiles(i) for i in lib['SMILES']]\n",
    "print(f\"{len(set(lib_scaff_smiles))} unique scaffolds out of {len(lib_mols)}\")"
   ]
  },
  {
   "cell_type": "code",
   "execution_count": 2,
   "id": "1bfdecbc-6a3d-4f7d-9176-f92db421b68a",
   "metadata": {},
   "outputs": [
    {
     "name": "stderr",
     "output_type": "stream",
     "text": [
      "/home/u0/miniconda3/envs/sxfst/lib/python3.7/site-packages/tqdm/auto.py:22: TqdmWarning: IProgress not found. Please update jupyter and ipywidgets. See https://ipywidgets.readthedocs.io/en/stable/user_install.html\n",
      "  from .autonotebook import tqdm as notebook_tqdm\n",
      "100%|██████████████████████████████████████████| 13/13 [00:00<00:00, 252.18it/s]\n"
     ]
    },
    {
     "data": {
      "image/png": "[encoded data removed]",
      "text/plain": [
       "<Figure size 576x576 with 1 Axes>"
      ]
     },
     "metadata": {
      "needs_background": "light"
     },
     "output_type": "display_data"
    },
    {
     "name": "stdout",
     "output_type": "stream",
     "text": [
      "CPU times: user 22.6 s, sys: 219 ms, total: 22.8 s\n",
      "Wall time: 17.6 s\n"
     ]
    }
   ],
   "source": [
    "%%time\n",
    "from tqdm import tqdm\n",
    "import numpy as np\n",
    "from umap import UMAP\n",
    "import matplotlib.pyplot as plt\n",
    "from sklearn.cluster import DBSCAN \n",
    "\n",
    "fps = np.array([Chem.RDKFingerprint(i) for i in lib_mols])\n",
    "\n",
    "um = UMAP(metric='manhattan')\n",
    "xy = um.fit_transform(fps)\n",
    "\n",
    "dbscan = DBSCAN(eps=0.5,\n",
    "                min_samples=8,\n",
    "                n_jobs=-1)\n",
    "clusters = dbscan.fit_predict(xy)\n",
    "\n",
    "xyz = pd.DataFrame(xy, columns=list('xy'))\n",
    "xyz['z'] = clusters\n",
    "\n",
    "plt.figure(figsize=(8,8))\n",
    "for i in tqdm(xyz['z'].unique()):\n",
    "    cl = xyz.loc[xyz['z'] == i, :]\n",
    "    plt.scatter(cl['x'], \n",
    "                cl['y'],\n",
    "                s=1,\n",
    "                label=i,\n",
    "               )\n",
    "plt.legend(markerscale=8,\n",
    "           loc='lower left')\n",
    "plt.show()"
   ]
  },
  {
   "cell_type": "code",
   "execution_count": 3,
   "id": "1a732800-6422-4a5d-b8aa-199ec3078b53",
   "metadata": {
    "tags": []
   },
   "outputs": [
    {
     "name": "stderr",
     "output_type": "stream",
     "text": [
      "100%|███████████████████████████████████████████| 13/13 [00:17<00:00,  1.38s/it]\n"
     ]
    }
   ],
   "source": [
    "from PIL import Image\n",
    "from io import BytesIO\n",
    "\n",
    "lib['Cluster'] = clusters\n",
    "lib['Scaffold'] = lib_scaff_smiles\n",
    "\n",
    "for i in tqdm(lib['Cluster'].unique()):\n",
    "    c = lib.loc[lib['Cluster']==i,:]\n",
    "    if len(c) < 100:\n",
    "        fig, ax = plt.subplots(len(c),2,\n",
    "                               figsize=(6,len(c)*3),\n",
    "                              )\n",
    "        for ax_row, j, k, l in zip(ax, \n",
    "                                   c['SMILES'], \n",
    "                                   c['Scaffold'],\n",
    "                                   c['Item Name']):\n",
    "            im1 = Draw.MolToImage(Chem.MolFromSmiles(j))\n",
    "            im2 = Draw.MolToImage(Chem.MolFromSmiles(k))\n",
    "            ax_row[0].imshow(im1)\n",
    "            ax_row[1].imshow(im2)\n",
    "            ax_row[0].axis('off')\n",
    "            ax_row[1].axis('off')\n",
    "            ax_row[0].set_title(l)\n",
    "            ax_row[1].set_title(f'{l} Scaffold')\n",
    "        fig.suptitle(f'Cluster {i}')\n",
    "        plt.tight_layout()\n",
    "        #plt.show()\n",
    "        plt.close()"
   ]
  },
  {
   "cell_type": "code",
   "execution_count": 13,
   "id": "8b0f7445-9d56-48c3-9795-3fac6680020b",
   "metadata": {},
   "outputs": [
    {
     "name": "stderr",
     "output_type": "stream",
     "text": [
      "100%|█████████████████████████████████████████| 822/822 [02:56<00:00,  4.67it/s]"
     ]
    },
    {
     "name": "stdout",
     "output_type": "stream",
     "text": [
      "CPU times: user 2min 49s, sys: 7.18 s, total: 2min 56s\n",
      "Wall time: 2min 56s\n"
     ]
    },
    {
     "name": "stderr",
     "output_type": "stream",
     "text": [
      "\n"
     ]
    }
   ],
   "source": [
    "%%time\n",
    "\n",
    "df_ = df.copy()[['chemid','smiles']].drop_duplicates()\n",
    "df_['Scaffold'] = [MurckoScaffold.MurckoScaffoldSmiles(i) for i in df_['smiles']]\n",
    "\n",
    "cn_in = dict(zip(lib['CatalogNumber'], lib['Item Name']))\n",
    "df_['Item Name'] = [cn_in[i] for i in df_['chemid']]\n",
    "\n",
    "for i, j, k, l in tqdm(zip(df_['chemid'],\n",
    "                           df_['smiles'], \n",
    "                           df_['Scaffold'],\n",
    "                           df_['Item Name'],\n",
    "                          ),\n",
    "                       total=len(df_)):\n",
    "    im1 = Draw.MolToImage(Chem.MolFromSmiles(j))\n",
    "    im2 = Draw.MolToImage(Chem.MolFromSmiles(k))\n",
    "    plt.figure(figsize=(6,6))\n",
    "    plt.imshow(im1)\n",
    "    plt.axis('off')\n",
    "    plt.title(l)\n",
    "    plt.savefig(f'img/hits-{i}.png')\n",
    "    plt.close()\n",
    "    \n",
    "    plt.figure(figsize=(6,6))\n",
    "    plt.imshow(im2)\n",
    "    plt.axis('off')\n",
    "    plt.title(l)\n",
    "    plt.savefig(f'img/hits-{i}-scaffold.png')\n",
    "    plt.close()\n"
   ]
  },
  {
   "cell_type": "code",
   "execution_count": null,
   "id": "4f5f9a6e-32d7-4213-9cc2-c9818bce073c",
   "metadata": {},
   "outputs": [
    {
     "name": "stderr",
     "output_type": "stream",
     "text": [
      " 25%|██████████▍                               | 37/149 [00:07<00:23,  4.81it/s]"
     ]
    }
   ],
   "source": [
    "%%time\n",
    "\n",
    "hits = df.loc[df['hit'], :].copy()\n",
    "hits['Scaffold'] = [MurckoScaffold.MurckoScaffoldSmiles(i) for i in hits['smiles']]\n",
    "\n",
    "cn_in = dict(zip(lib['CatalogNumber'], lib['Item Name']))\n",
    "hits['Item Name'] = [cn_in[i] for i in hits['chemid']]\n",
    "\n",
    "for i, j, k, l in tqdm(zip(hits['chemid'],\n",
    "                           hits['smiles'], \n",
    "                           hits['Scaffold'],\n",
    "                           hits['Item Name'],\n",
    "                          ),\n",
    "                       total=len(hits)):\n",
    "    im1 = Draw.MolToImage(Chem.MolFromSmiles(j))\n",
    "    im2 = Draw.MolToImage(Chem.MolFromSmiles(k))\n",
    "    plt.figure(figsize=(6,6))\n",
    "    plt.imshow(im1)\n",
    "    plt.axis('off')\n",
    "    plt.title(l)\n",
    "    plt.savefig(f'img/hits-{i}.png')\n",
    "    plt.close()\n",
    "    \n",
    "    plt.figure(figsize=(6,6))\n",
    "    plt.imshow(im2)\n",
    "    plt.axis('off')\n",
    "    plt.title(l)\n",
    "    plt.savefig(f'img/hits-{i}-scaffold.png')\n",
    "    plt.close()"
   ]
  },
  {
   "cell_type": "code",
   "execution_count": null,
   "id": "b4434562-1477-4560-924f-7b5b83a72df5",
   "metadata": {},
   "outputs": [],
   "source": [
    "hits['fig'] = [f'![](img/screen/hits-{i}.png)' for i in hits['chemid']]\n",
    "hits['fig-scaffold'] = [f'![](img/screen/hits-{i}-scaffold.png)' for i in hits['chemid']]\n",
    "hits_ = hits[['experiment', 'protein',  'chemid',  'Item Name', 'fig', 'fig-scaffold']]\n",
    "#print(hits_.to_markdown(index=False))"
   ]
  },
  {
   "cell_type": "code",
   "execution_count": null,
   "id": "1ece0094-83d2-4f29-a80b-b7394eed5baa",
   "metadata": {},
   "outputs": [],
   "source": [
    "%%time\n",
    "\n",
    "hits = df.loc[df['hit'], :].copy()\n",
    "hits['Scaffold'] = [MurckoScaffold.MurckoScaffoldSmiles(i) for i in hits['smiles']]\n",
    "\n",
    "cn_in = dict(zip(lib['CatalogNumber'], lib['Item Name']))\n",
    "hits['Item Name'] = [cn_in[i] for i in hits['chemid']]\n",
    "\n",
    "fig, ax = plt.subplots(len(hits),2,\n",
    "                       figsize=(6,len(hits)*3),\n",
    "                      )\n",
    "for ax_row, j, k, l in tqdm(zip(ax, \n",
    "                           hits['smiles'], \n",
    "                           hits['Scaffold'],\n",
    "                           hits['Item Name']),\n",
    "                            total=len(hits)):\n",
    "    im1 = Draw.MolToImage(Chem.MolFromSmiles(j))\n",
    "    im2 = Draw.MolToImage(Chem.MolFromSmiles(k))\n",
    "    ax_row[0].imshow(im1)\n",
    "    ax_row[1].imshow(im2)\n",
    "    ax_row[0].axis('off')\n",
    "    ax_row[1].axis('off')\n",
    "    ax_row[0].set_title(l)\n",
    "    ax_row[1].set_title(f'{l} Scaffold')\n",
    "plt.tight_layout()\n",
    "plt.savefig('img/hits-scaffolds.png')\n",
    "#plt.show()\n",
    "plt.close()"
   ]
  },
  {
   "cell_type": "code",
   "execution_count": null,
   "id": "da0dbaf5-2b82-4f37-b628-cc4409da81d8",
   "metadata": {},
   "outputs": [],
   "source": [
    "kd_data = pd.read_csv('kds.csv')\n",
    "kd_data.head()"
   ]
  },
  {
   "cell_type": "code",
   "execution_count": null,
   "id": "8df49545-8edf-472e-ae47-4aead5d1a27c",
   "metadata": {},
   "outputs": [],
   "source": [
    "#plt.style.use('dark_background')\n",
    "plt.style.use('default')\n",
    "for i in kd_data['protein'].unique():\n",
    "    chunk = kd_data.loc[kd_data['protein']==i,:]\n",
    "    fig, ax = plt.subplots(2,2, figsize=(8,8))\n",
    "    for j,k,l in zip(ax.flatten(), \n",
    "                     ['km','vmax','rsq'],\n",
    "                     ['$K_m$', '$V_{max}$', '$R^2$']):\n",
    "        j.hist(chunk[k],\n",
    "               bins=64,\n",
    "               alpha=0.5,\n",
    "              )\n",
    "        j.set_title(l)\n",
    "        j.set_ylabel('Count')\n",
    "    ax[1,1].axis('off')\n",
    "    fig.suptitle(f'Michaelis-Menten Metrics for {i}')\n",
    "    plt.tight_layout()\n",
    "    plt.savefig(f\"img/{i.replace('/','-').replace(' ','-')}-mm-hist.png\") \n",
    "    plt.show()"
   ]
  },
  {
   "cell_type": "code",
   "execution_count": null,
   "id": "385d1759-008c-4411-9125-b8724fd8d8bc",
   "metadata": {},
   "outputs": [],
   "source": [
    "kd_data_ = kd_data.loc[kd_data['rsq']>0,:]\n",
    "for i in kd_data['protein'].unique():\n",
    "    chunk = kd_data_.loc[kd_data_['protein']==i,:]\n",
    "    fig, ax = plt.subplots(2,2, figsize=(8,8))\n",
    "    for j,k,l in zip(ax.flatten(), \n",
    "                     ['km','vmax','rsq'],\n",
    "                     ['$K_m$', '$V_{max}$', '$R^2$']):\n",
    "        j.hist(chunk[k],\n",
    "               bins=32,\n",
    "               alpha=0.5,\n",
    "              )\n",
    "        j.set_title(l)\n",
    "        j.set_ylabel('Count')\n",
    "    ax[1,1].axis('off')\n",
    "    fig.suptitle(f'Michaelis-Menten Metrics for {i}\\nWhere $R^2$ > 0')\n",
    "    plt.tight_layout()\n",
    "    plt.savefig(f\"img/{i.replace('/','-').replace(' ','-')}-mm-hist-gt0.png\") \n",
    "    plt.show()"
   ]
  },
  {
   "cell_type": "code",
   "execution_count": null,
   "id": "fd6db177-0a7e-4af7-a4a4-a930fa0cf8ba",
   "metadata": {},
   "outputs": [],
   "source": [
    "import seaborn as sns\n",
    "for i in kd_data['protein'].unique():\n",
    "    chunk = kd_data.loc[kd_data['protein']==i,['km','vmax','rsq']]\n",
    "    chunk.columns = ['$K_m$', '$V_{max}$', '$R^2$']\n",
    "    plt.figure(figsize=(8,8))\n",
    "    sns.pairplot(chunk,\n",
    "                 kind='kde', )\n",
    "    plt.suptitle(f'Pairwise-Interactions for Michaelis-Menten Metrics for {i}')\n",
    "    plt.tight_layout()\n",
    "    plt.savefig(f\"img/{i.replace('/','-').replace(' ','-')}-mm-pairwise.png\") \n",
    "    plt.show() "
   ]
  },
  {
   "cell_type": "code",
   "execution_count": null,
   "id": "393c44e2-a7fa-42aa-8b24-2d62dca4db72",
   "metadata": {},
   "outputs": [],
   "source": [
    "for i in kd_data['protein'].unique():\n",
    "    chunk = kd_data_.loc[kd_data_['protein']==i,['km','vmax','rsq']]\n",
    "    chunk.columns = ['$K_m$', '$V_{max}$', '$R^2$']\n",
    "    plt.figure(figsize=(8,8))\n",
    "    sns.pairplot(chunk,\n",
    "                 kind='kde', )\n",
    "    plt.suptitle(f'Pairwise-Interactions for Michaelis-Menten Metrics for {i}')\n",
    "    plt.tight_layout()\n",
    "    plt.savefig(f\"img/{i.replace('/','-').replace(' ','-')}-mm-pairwise-rsqgt0.png\") \n",
    "    plt.show() "
   ]
  },
  {
   "cell_type": "code",
   "execution_count": null,
   "id": "8303960c-6ab9-4287-8344-85e7a612bf38",
   "metadata": {},
   "outputs": [],
   "source": [
    "plt.figure(figsize=(4,4))\n",
    "plt.scatter(kd_data['vmax'],\n",
    "            kd_data['km'],\n",
    "            s=1,\n",
    "           )\n",
    "plt.xlabel('$V_{max}$')\n",
    "plt.ylabel('$K_m$')\n",
    "plt.title('$K_m$ Against $V_{max}$')\n",
    "plt.show()"
   ]
  },
  {
   "cell_type": "code",
   "execution_count": null,
   "id": "0820672a-3a0e-470b-9446-f095e0222778",
   "metadata": {},
   "outputs": [],
   "source": [
    "import numpy as np\n",
    "from scipy.optimize import curve_fit\n",
    "from sklearn.metrics import r2_score\n",
    "\n",
    "fn = lambda x, m, c : (m*x) + c\n",
    "\n",
    "\n",
    "x = kd_data.loc[kd_data['vmax']<1,:]\n",
    "(m,c), pos = curve_fit(fn, x['vmax'], x['km'])\n",
    "r2 = r2_score(x['km'], fn(x['vmax'], m, c))\n",
    "                       \n",
    "plt.figure(figsize=(4,4))\n",
    "plt.scatter(x['vmax'],\n",
    "            x['km'],\n",
    "            s=1,\n",
    "           )\n",
    "x_ = np.linspace(min(x['vmax']),\n",
    "                 max(x['vmax']),\n",
    "                 32)\n",
    "plt.plot(x_, \n",
    "         fn(x_, k,c),\n",
    "        c='orange',\n",
    "        lw=2,\n",
    "        linestyle='--',\n",
    "        )\n",
    "plt.text(x=0.2,\n",
    "         y=300,\n",
    "         s=f'm = {round(m, 3)}\\nc = {round(c,3)}\\n$R^2$ = {round(r2,2)}'\n",
    "        )\n",
    "plt.xlabel('$V_{max}$')\n",
    "plt.ylabel('$K_m$')\n",
    "plt.title('$K_m$ Against $V_{max}$ Where $V_{max}$ < 1')\n",
    "plt.savefig('img/km-vs-vmax-corr.png')\n",
    "plt.show()"
   ]
  },
  {
   "cell_type": "code",
   "execution_count": null,
   "id": "e6301abd-2888-4ce2-9453-eda4dd156846",
   "metadata": {
    "tags": []
   },
   "outputs": [],
   "source": [
    "kms.head()"
   ]
  },
  {
   "cell_type": "code",
   "execution_count": null,
   "id": "d9c5dc41-e3ab-4388-99e1-c9d336399a22",
   "metadata": {},
   "outputs": [],
   "source": [
    "'ss'.capitalize()"
   ]
  },
  {
   "cell_type": "code",
   "execution_count": null,
   "id": "e3fb105f-123a-40b3-a02d-9b13482b33f7",
   "metadata": {},
   "outputs": [],
   "source": [
    "kms = df.loc[df['rsq']>0,:]\n",
    "kms = kms.loc[kms['vmax']<3,:]\n",
    "\n",
    "kms['Compond Structure'] = [f'![](img/screen/hits-{i}.png)' for i in kms['cpd']]\n",
    "kms['Compound Scaffold'] = [f'![](img/screen/hits-{i}-scaffold.png)' for i in kms['cpd']]\n",
    "kms.columns = [i.capitalize() for i in kms.columns]\n",
    "print(kms.to_markdown(index=False))"
   ]
  },
  {
   "cell_type": "code",
   "execution_count": null,
   "id": "f40bd127-0ffc-478b-beb7-71da14da04f3",
   "metadata": {},
   "outputs": [],
   "source": []
  }
 ],
 "metadata": {
  "kernelspec": {
   "display_name": "Python 3 (ipykernel)",
   "language": "python",
   "name": "python3"
  },
  "language_info": {
   "codemirror_mode": {
    "name": "ipython",
    "version": 3
   },
   "file_extension": ".py",
   "mimetype": "text/x-python",
   "name": "python",
   "nbconvert_exporter": "python",
   "pygments_lexer": "ipython3",
   "version": "3.7.13"
  }
 },
 "nbformat": 4,
 "nbformat_minor": 5
}
