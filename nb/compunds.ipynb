{
 "cells": [
  {
   "cell_type": "code",
   "execution_count": 1,
   "id": "e5d9fa3b-b2d9-424e-8d4e-475faba244f2",
   "metadata": {},
   "outputs": [
    {
     "data": {
      "text/plain": [
       "dict_keys(['General Information', 'L1300-FDA-978cpds', 'Protein', \"Laura's output\", 'JAMES WORK 2', '20180410 JAMESOUTPUT', '20180419-classifier data', '20180510 - super python'])"
      ]
     },
     "execution_count": 1,
     "metadata": {},
     "output_type": "execute_result"
    }
   ],
   "source": [
    "import pandas as pd\n",
    "from rdkit import Chem\n",
    "from rdkit.Chem import Draw\n",
    "\n",
    "sheets = pd.read_excel('../data/lib/selleckchem-plate.xlsx', sheet_name=None)\n",
    "sheets.keys()"
   ]
  },
  {
   "cell_type": "code",
   "execution_count": 2,
   "id": "c1bf47de-d048-4b6c-803c-1d39da020712",
   "metadata": {
    "collapsed": true,
    "jupyter": {
     "outputs_hidden": true
    },
    "tags": []
   },
   "outputs": [
    {
     "data": {
      "text/html": [
       "<div>\n",
       "<style scoped>\n",
       "    .dataframe tbody tr th:only-of-type {\n",
       "        vertical-align: middle;\n",
       "    }\n",
       "\n",
       "    .dataframe tbody tr th {\n",
       "        vertical-align: top;\n",
       "    }\n",
       "\n",
       "    .dataframe thead th {\n",
       "        text-align: right;\n",
       "    }\n",
       "</style>\n",
       "<table border=\"1\" class=\"dataframe\">\n",
       "  <thead>\n",
       "    <tr style=\"text-align: right;\">\n",
       "      <th></th>\n",
       "      <th>FDA Approved Drug Screening Library (96-well)</th>\n",
       "      <th>Unnamed: 1</th>\n",
       "      <th>Unnamed: 2</th>\n",
       "      <th>Unnamed: 3</th>\n",
       "      <th>Unnamed: 4</th>\n",
       "      <th>Unnamed: 5</th>\n",
       "      <th>Unnamed: 6</th>\n",
       "      <th>Unnamed: 7</th>\n",
       "      <th>Unnamed: 8</th>\n",
       "      <th>Unnamed: 9</th>\n",
       "      <th>Unnamed: 10</th>\n",
       "      <th>Unnamed: 11</th>\n",
       "      <th>Unnamed: 12</th>\n",
       "      <th>Unnamed: 13</th>\n",
       "    </tr>\n",
       "  </thead>\n",
       "  <tbody>\n",
       "    <tr>\n",
       "      <th>0</th>\n",
       "      <td>NaN</td>\n",
       "      <td>NaN</td>\n",
       "      <td>NaN</td>\n",
       "      <td>NaN</td>\n",
       "      <td>NaN</td>\n",
       "      <td>NaN</td>\n",
       "      <td>NaN</td>\n",
       "      <td>NaN</td>\n",
       "      <td>NaN</td>\n",
       "      <td>NaN</td>\n",
       "      <td>NaN</td>\n",
       "      <td>NaN</td>\n",
       "      <td>NaN</td>\n",
       "      <td>NaN</td>\n",
       "    </tr>\n",
       "    <tr>\n",
       "      <th>1</th>\n",
       "      <td>NaN</td>\n",
       "      <td>For more information on Selleck library servic...</td>\n",
       "      <td>NaN</td>\n",
       "      <td>NaN</td>\n",
       "      <td>NaN</td>\n",
       "      <td>NaN</td>\n",
       "      <td>NaN</td>\n",
       "      <td>NaN</td>\n",
       "      <td>NaN</td>\n",
       "      <td>NaN</td>\n",
       "      <td>NaN</td>\n",
       "      <td>NaN</td>\n",
       "      <td>NaN</td>\n",
       "      <td>NaN</td>\n",
       "    </tr>\n",
       "    <tr>\n",
       "      <th>2</th>\n",
       "      <td>NaN</td>\n",
       "      <td>NaN</td>\n",
       "      <td>NaN</td>\n",
       "      <td>NaN</td>\n",
       "      <td>NaN</td>\n",
       "      <td>NaN</td>\n",
       "      <td>NaN</td>\n",
       "      <td>NaN</td>\n",
       "      <td>NaN</td>\n",
       "      <td>NaN</td>\n",
       "      <td>NaN</td>\n",
       "      <td>NaN</td>\n",
       "      <td>NaN</td>\n",
       "      <td>NaN</td>\n",
       "    </tr>\n",
       "    <tr>\n",
       "      <th>3</th>\n",
       "      <td>NaN</td>\n",
       "      <td>Product Details:</td>\n",
       "      <td>NaN</td>\n",
       "      <td>NaN</td>\n",
       "      <td>NaN</td>\n",
       "      <td>NaN</td>\n",
       "      <td>NaN</td>\n",
       "      <td>NaN</td>\n",
       "      <td>NaN</td>\n",
       "      <td>NaN</td>\n",
       "      <td>NaN</td>\n",
       "      <td>NaN</td>\n",
       "      <td>NaN</td>\n",
       "      <td>NaN</td>\n",
       "    </tr>\n",
       "    <tr>\n",
       "      <th>4</th>\n",
       "      <td>NaN</td>\n",
       "      <td>Formulation</td>\n",
       "      <td>NaN</td>\n",
       "      <td>A collection of 978 FDA approved drugs supplie...</td>\n",
       "      <td>NaN</td>\n",
       "      <td>NaN</td>\n",
       "      <td>NaN</td>\n",
       "      <td>NaN</td>\n",
       "      <td>NaN</td>\n",
       "      <td>NaN</td>\n",
       "      <td>NaN</td>\n",
       "      <td>NaN</td>\n",
       "      <td>NaN</td>\n",
       "      <td>NaN</td>\n",
       "    </tr>\n",
       "  </tbody>\n",
       "</table>\n",
       "</div>"
      ],
      "text/plain": [
       "   FDA Approved Drug Screening Library (96-well)  \\\n",
       "0                                            NaN   \n",
       "1                                            NaN   \n",
       "2                                            NaN   \n",
       "3                                            NaN   \n",
       "4                                            NaN   \n",
       "\n",
       "                                          Unnamed: 1 Unnamed: 2  \\\n",
       "0                                                NaN        NaN   \n",
       "1  For more information on Selleck library servic...        NaN   \n",
       "2                                                NaN        NaN   \n",
       "3                                   Product Details:        NaN   \n",
       "4                                        Formulation        NaN   \n",
       "\n",
       "                                          Unnamed: 3 Unnamed: 4 Unnamed: 5  \\\n",
       "0                                                NaN        NaN        NaN   \n",
       "1                                                NaN        NaN        NaN   \n",
       "2                                                NaN        NaN        NaN   \n",
       "3                                                NaN        NaN        NaN   \n",
       "4  A collection of 978 FDA approved drugs supplie...        NaN        NaN   \n",
       "\n",
       "  Unnamed: 6 Unnamed: 7 Unnamed: 8 Unnamed: 9 Unnamed: 10 Unnamed: 11  \\\n",
       "0        NaN        NaN        NaN        NaN         NaN         NaN   \n",
       "1        NaN        NaN        NaN        NaN         NaN         NaN   \n",
       "2        NaN        NaN        NaN        NaN         NaN         NaN   \n",
       "3        NaN        NaN        NaN        NaN         NaN         NaN   \n",
       "4        NaN        NaN        NaN        NaN         NaN         NaN   \n",
       "\n",
       "  Unnamed: 12 Unnamed: 13  \n",
       "0         NaN         NaN  \n",
       "1         NaN         NaN  \n",
       "2         NaN         NaN  \n",
       "3         NaN         NaN  \n",
       "4         NaN         NaN  "
      ]
     },
     "execution_count": 2,
     "metadata": {},
     "output_type": "execute_result"
    }
   ],
   "source": [
    "info = sheets['General Information']\n",
    "cpds = sheets['L1300-FDA-978cpds']"
   ]
  },
  {
   "cell_type": "code",
   "execution_count": 24,
   "id": "1b4423a6-d9d8-4f13-92e8-212695e18d2e",
   "metadata": {},
   "outputs": [
    {
     "data": {
      "application/vnd.jupyter.widget-view+json": {
       "model_id": "b6e315afaf484765831df992f0a875be",
       "version_major": 2,
       "version_minor": 0
      },
      "text/plain": [
       "  0%|          | 0/978 [00:00<?, ?it/s]"
      ]
     },
     "metadata": {},
     "output_type": "display_data"
    }
   ],
   "source": [
    "import os\n",
    "import os.path as osp\n",
    "from tqdm.notebook import tqdm\n",
    "import matplotlib.pyplot as plt\n",
    " \n",
    "if not osp.exists('img'):\n",
    "    os.mkdir('img')\n",
    "\n",
    "mols = [Chem.MolFromSmiles(i) for i in layout.SMILES]\n",
    "df = layout.copy()\n",
    "df['mols'] = mols\n",
    "df['img_path'] = df['Item Name'].apply(lambda name : \\\n",
    "               osp.join('img',name.lower().\\\n",
    "                        replace(' ','-').\\\n",
    "                        replace('(','').\\\n",
    "                        replace(')','') + '.png'))\n",
    "\n",
    "for mol, name, path in tqdm(zip(df['mols'], df['Item Name'], df['img_path']), \n",
    "              total=len(df)):\n",
    "    im = Draw.MolToImage(mol,fitImage=True,size=(300,300))\n",
    "    im.save(path)"
   ]
  },
  {
   "cell_type": "code",
   "execution_count": 25,
   "id": "599dc0b0-967e-4ae8-a012-6589f6968b2d",
   "metadata": {},
   "outputs": [
    {
     "data": {
      "application/vnd.jupyter.widget-view+json": {
       "model_id": "d9f61903b147460b8d6d96ab7aa4cded",
       "version_major": 2,
       "version_minor": 0
      },
      "text/plain": [
       "Tab(children=(VBox(children=(Dropdown(description='cpd_name', options=('Axitinib', 'Afatinib (BIBW2992)', 'Bor…"
      ]
     },
     "metadata": {},
     "output_type": "display_data"
    }
   ],
   "source": [
    "from IPython.display import Image, HTML\n",
    "from ipywidgets import interact, interactive, fixed, interact_manual\n",
    "import ipywidgets as widgets\n",
    "from ipywidgets import *\n",
    "\n",
    "path_to_image_html = \\\n",
    "    lambda path : f'<img src=\"{path}\" style=max-height:1024px;\"/>'\n",
    "\n",
    "def show_im():\n",
    "    CSS = \"\"\"\n",
    "    .output {\n",
    "        flex-direction: row;\n",
    "    }\n",
    "    \"\"\"\n",
    "    HTML('<style>{}</style>'.format(CSS))\n",
    "\n",
    "def image_viewer(cpd_name):\n",
    "    paths = df.loc[df['Item Name'] == cpd_name, 'img_path']\n",
    "    for i in paths:\n",
    "        im = plt.imread(i)\n",
    "        plt.figure(figsize=(8,8))\n",
    "        plt.imshow(im)\n",
    "        plt.show()\n",
    "    \n",
    "display_widget = widgets.Dropdown(options=df['Item Name'])\n",
    "tab_nest = widgets.Tab()\n",
    "tab_nest.set_title(0, 'Compounds')\n",
    "f1 = interactive(image_viewer, \n",
    "                 cpd_name=display_widget);\n",
    "tab_nest.children = [VBox(children = f1.children)]\n",
    "display(tab_nest)"
   ]
  },
  {
   "cell_type": "code",
   "execution_count": 34,
   "id": "4b85b743-a97a-4d3f-b33a-7571e88b41dd",
   "metadata": {},
   "outputs": [
    {
     "data": {
      "text/plain": [
       "array([[1, 1, 0, ..., 1, 0, 1],\n",
       "       [1, 0, 1, ..., 0, 0, 1],\n",
       "       [1, 1, 0, ..., 0, 1, 1],\n",
       "       ...,\n",
       "       [1, 1, 1, ..., 0, 1, 1],\n",
       "       [1, 0, 1, ..., 0, 0, 1],\n",
       "       [1, 0, 1, ..., 0, 0, 1]])"
      ]
     },
     "execution_count": 34,
     "metadata": {},
     "output_type": "execute_result"
    }
   ],
   "source": [
    "from rdkit.Chem import AllChem\n",
    "import numpy as np\n",
    "fps = np.array([AllChem.RDKFingerprint(i) for i in mols])\n",
    "fps"
   ]
  },
  {
   "cell_type": "markdown",
   "id": "b143b228-cf16-4bba-b54e-d789184587ac",
   "metadata": {},
   "source": [
    "## Entropy\n",
    "\n",
    "$$\n",
    "H = - \\sum{p(x_i) \\log_2 p(x_i)}\n",
    "$$"
   ]
  },
  {
   "cell_type": "code",
   "execution_count": 87,
   "id": "d55e9a10-0794-41d0-9788-884ea153185a",
   "metadata": {},
   "outputs": [
    {
     "name": "stdout",
     "output_type": "stream",
     "text": [
      "1221.7207903116907\n",
      "1221.7207903116907\n",
      "1221.7207903116907\n",
      "1221.7207903116907\n",
      "1221.7207903116907\n",
      "1221.7207903116907\n",
      "1221.7207903116907\n",
      "1221.7207903116907\n",
      "1221.7207903116907\n",
      "1221.7207903116907\n",
      "1221.7207903116907\n",
      "1221.7207903116907\n",
      "1221.7207903116907\n",
      "1221.7207903116907\n",
      "1221.7207903116907\n",
      "1221.7207903116907\n",
      "1221.7207903116907\n",
      "1221.7207903116907\n",
      "1221.7207903116907\n",
      "1221.7207903116907\n",
      "1221.7207903116907\n",
      "1221.7207903116907\n",
      "1221.7207903116907\n",
      "1221.7207903116907\n",
      "1221.7207903116907\n",
      "1221.7207903116907\n",
      "1221.7207903116907\n",
      "1221.7207903116907\n",
      "1221.7207903116907\n",
      "1221.7207903116907\n",
      "1221.7207903116907\n",
      "1221.7207903116907\n",
      "1221.7207903116907\n",
      "1221.7207903116907\n",
      "1221.7207903116907\n",
      "1221.7207903116907\n",
      "1221.7207903116907\n",
      "1221.7207903116907\n",
      "1221.7207903116907\n",
      "1221.7207903116907\n",
      "1221.7207903116907\n",
      "1221.7207903116907\n",
      "1221.7207903116907\n",
      "1221.7207903116907\n",
      "1221.7207903116907\n",
      "1221.7207903116907\n",
      "1221.7207903116907\n",
      "1221.7207903116907\n",
      "1221.7207903116907\n",
      "1221.7207903116907\n",
      "1221.7207903116907\n",
      "1221.7207903116907\n",
      "1221.7207903116907\n",
      "1221.7207903116907\n",
      "1221.7207903116907\n",
      "1221.7207903116907\n",
      "1221.7207903116907\n",
      "1221.7207903116907\n",
      "1221.7207903116907\n",
      "1221.7207903116907\n",
      "1221.7207903116907\n",
      "1221.7207903116907\n",
      "1221.7207903116907\n",
      "1221.7207903116907\n",
      "1221.7207903116907\n",
      "1221.7207903116907\n",
      "1221.7207903116907\n",
      "1221.7207903116907\n",
      "1221.7207903116907\n",
      "1221.7207903116907\n",
      "1221.7207903116907\n",
      "1221.7207903116907\n",
      "1221.7207903116907\n",
      "1221.7207903116907\n",
      "1221.7207903116907\n",
      "1221.7207903116907\n",
      "1221.7207903116907\n",
      "1221.7207903116907\n",
      "1221.7207903116907\n",
      "1221.7207903116907\n",
      "1221.7207903116907\n",
      "1221.7207903116907\n",
      "1221.7207903116907\n",
      "1221.7207903116907\n",
      "1221.7207903116907\n",
      "1221.7207903116907\n",
      "1221.7207903116907\n",
      "1221.7207903116907\n",
      "1221.7207903116907\n",
      "1221.7207903116907\n",
      "1221.7207903116907\n",
      "1221.7207903116907\n",
      "1221.7207903116907\n",
      "1221.7207903116907\n",
      "1221.7207903116907\n",
      "1221.7207903116907\n",
      "1221.7207903116907\n",
      "1221.7207903116907\n",
      "1221.7207903116907\n",
      "1221.7207903116907\n"
     ]
    }
   ],
   "source": [
    "import random\n",
    "from scipy.special import entr\n",
    "\n",
    "def select(fps, n):\n",
    "    p = fps / fps.sum(axis=0)\n",
    "    #h = entr(p).sum(axis=0)\n",
    "    pop_idx = random.choices(range(fps.shape[0]), k=n)\n",
    "    h = lambda idx : entr(p[pop_idx]).sum()\n",
    "    the_rest = lambda idx : [i for i in range(fps.shape[0]) \\\n",
    "                                 if i not in idx]\n",
    "    H = h(pop_idx)\n",
    "    for _ in range(100):\n",
    "        trial_idx = pop_idx.copy()\n",
    "        sample = random.choice(the_rest(trial_idx))\n",
    "        trial_idx.remove(random.choice(trial_idx))\n",
    "        trial_idx.append(sample)\n",
    "        print(h(trial_idx))\n",
    "        if h(trial_idx) > H:\n",
    "            pop_idx = trial_idx\n",
    "            H = h(trial_idx)\n",
    "            print(H)\n",
    "        \n",
    "    \n",
    "select(fps, 96)"
   ]
  },
  {
   "cell_type": "code",
   "execution_count": 80,
   "id": "c8f1b31a-e800-4c12-9a30-ed07b6d490a0",
   "metadata": {},
   "outputs": [
    {
     "name": "stdout",
     "output_type": "stream",
     "text": [
      "[0, 1, 2, 3, 4, 5, 6, 7, 8, 9]\n",
      "0\n",
      "[0, 1, 2, 3, 4, 5, 6, 7, 8, 9]\n"
     ]
    }
   ],
   "source": [
    "l=list(range(10))\n",
    "print(l)\n",
    "print(random.choice(l))\n",
    "print(l)"
   ]
  },
  {
   "cell_type": "code",
   "execution_count": 79,
   "id": "582c56f4-b596-4581-8210-211441ed451a",
   "metadata": {},
   "outputs": [
    {
     "data": {
      "text/plain": [
       "\u001b[0;31mSignature:\u001b[0m \u001b[0mrandom\u001b[0m\u001b[0;34m.\u001b[0m\u001b[0mchoice\u001b[0m\u001b[0;34m(\u001b[0m\u001b[0mseq\u001b[0m\u001b[0;34m)\u001b[0m\u001b[0;34m\u001b[0m\u001b[0;34m\u001b[0m\u001b[0m\n",
       "\u001b[0;31mDocstring:\u001b[0m Choose a random element from a non-empty sequence.\n",
       "\u001b[0;31mFile:\u001b[0m      ~/src/miniconda/miniconda3/envs/rdk/lib/python3.7/random.py\n",
       "\u001b[0;31mType:\u001b[0m      method\n"
      ]
     },
     "metadata": {},
     "output_type": "display_data"
    }
   ],
   "source": [
    "random.choice"
   ]
  }
 ],
 "metadata": {
  "kernelspec": {
   "display_name": "Python 3 (ipykernel)",
   "language": "python",
   "name": "python3"
  },
  "language_info": {
   "codemirror_mode": {
    "name": "ipython",
    "version": 3
   },
   "file_extension": ".py",
   "mimetype": "text/x-python",
   "name": "python",
   "nbconvert_exporter": "python",
   "pygments_lexer": "ipython3",
   "version": "3.9.5"
  }
 },
 "nbformat": 4,
 "nbformat_minor": 5
}
