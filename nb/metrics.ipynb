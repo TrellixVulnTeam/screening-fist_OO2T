{
 "cells": [
  {
   "cell_type": "markdown",
   "id": "597fdf92-8353-4ead-9aa3-ed4995d5e63e",
   "metadata": {},
   "source": [
    "# Metrics\n",
    "\n",
    "## Aim:\n",
    "\n",
    "`screening-fist/sxfst/scripts/analysis2.sh` uses  `screening-fist/sxfst/scripts/data_proc2.py` to generate `data/exp0$i-raw.csv`"
   ]
  },
  {
   "cell_type": "code",
   "execution_count": null,
   "id": "f6f28721-c22a-49e3-9130-302eed524ac5",
   "metadata": {},
   "outputs": [],
   "source": [
    "import os\n",
    "import pandas as pd\n",
    "import sxfst\n",
    "\n"
   ]
  }
 ],
 "metadata": {
  "kernelspec": {
   "display_name": "Python 3 (ipykernel)",
   "language": "python",
   "name": "python3"
  },
  "language_info": {
   "codemirror_mode": {
    "name": "ipython",
    "version": 3
   },
   "file_extension": ".py",
   "mimetype": "text/x-python",
   "name": "python",
   "nbconvert_exporter": "python",
   "pygments_lexer": "ipython3",
   "version": "3.7.13"
  }
 },
 "nbformat": 4,
 "nbformat_minor": 5
}
