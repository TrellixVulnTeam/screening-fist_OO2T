{
 "cells": [
  {
   "cell_type": "code",
   "execution_count": 6,
   "id": "bb6a426a-1c59-4f32-8bde-b32329ca0db9",
   "metadata": {},
   "outputs": [
    {
     "name": "stdout",
     "output_type": "stream",
     "text": [
      "o3f: 1134016 points\n",
      "3527 unique sequences\n",
      "174532 unique compounds\n",
      "984877 hits\n",
      "149139 misses\n"
     ]
    },
    {
     "data": {
      "image/png": "[encoded data removed]",
      "text/plain": [
       "<Figure size 432x288 with 1 Axes>"
      ]
     },
     "metadata": {
      "needs_background": "light"
     },
     "output_type": "display_data"
    }
   ],
   "source": [
    "import pandas as pd\n",
    "import matplotlib.pyplot as plt\n",
    "\n",
    "o3f = pd.read_csv('model-data/o3f.csv')\n",
    "print(f\"o3f: {len(o3f)} points\\n{len(o3f['seq'].unique())} unique sequences\\n{len(o3f['smiles'].unique())} unique compounds\")\n",
    "nhits = sum(o3f['hit'])\n",
    "nmisses = len(o3f) - nhits \n",
    "print(f\"{nhits} hits\\n{nmisses} misses\")\n",
    "\n",
    "plt.bar(x=['hits','misses'],\n",
    "        height=[nhits, nmisses],\n",
    "       )\n",
    "plt.show()"
   ]
  },
  {
   "cell_type": "code",
   "execution_count": 11,
   "id": "3bff754a-9333-4a5e-9121-a913730ed479",
   "metadata": {},
   "outputs": [
    {
     "data": {
      "text/plain": [
       "0.1315140174389074"
      ]
     },
     "execution_count": 11,
     "metadata": {},
     "output_type": "execute_result"
    }
   ],
   "source": [
    "149139 / (984877  + 149139)"
   ]
  },
  {
   "cell_type": "code",
   "execution_count": 8,
   "id": "4f1d4b34-7fe9-4185-aaac-dbf741261e14",
   "metadata": {},
   "outputs": [
    {
     "data": {
      "image/png": "[encoded data removed]",
      "text/plain": [
       "<Figure size 576x288 with 1 Axes>"
      ]
     },
     "metadata": {
      "needs_background": "light"
     },
     "output_type": "display_data"
    }
   ],
   "source": [
    "plt.figure(figsize=(8,4))\n",
    "plt.bar(x=['hits','misses'],\n",
    "        height=[nhits, nmisses],\n",
    "       )\n",
    "plt.xlabel('Count')\n",
    "plt.title('Number of Hits and Misses in o3f Pre-Training Set')\n",
    "plt.savefig('img/o3f-hits-hist.png')\n",
    "plt.show()"
   ]
  },
  {
   "cell_type": "code",
   "execution_count": 1,
   "id": "c26ec76b-133c-40f6-9997-fb1018e51cc7",
   "metadata": {
    "collapsed": true,
    "jupyter": {
     "outputs_hidden": true
    },
    "tags": []
   },
   "outputs": [
    {
     "data": {
      "text/html": [
       "<div>\n",
       "<style scoped>\n",
       "    .dataframe tbody tr th:only-of-type {\n",
       "        vertical-align: middle;\n",
       "    }\n",
       "\n",
       "    .dataframe tbody tr th {\n",
       "        vertical-align: top;\n",
       "    }\n",
       "\n",
       "    .dataframe thead th {\n",
       "        text-align: right;\n",
       "    }\n",
       "</style>\n",
       "<table border=\"1\" class=\"dataframe\">\n",
       "  <thead>\n",
       "    <tr style=\"text-align: right;\">\n",
       "      <th></th>\n",
       "      <th>seq</th>\n",
       "      <th>smiles</th>\n",
       "      <th>hit</th>\n",
       "    </tr>\n",
       "  </thead>\n",
       "  <tbody>\n",
       "    <tr>\n",
       "      <th>0</th>\n",
       "      <td>MAPPSEETPLIPQRSCSLLSTEAGALHVLLPARGPGPPQRLSFSFG...</td>\n",
       "      <td>CN(c1ccccc1CNc1nc(cc(N)c1C(=N)C(N)=O)-c1cc(F)c...</td>\n",
       "      <td>True</td>\n",
       "    </tr>\n",
       "    <tr>\n",
       "      <th>1</th>\n",
       "      <td>MGRPLHLVLLSASLAGLLLLGESLFIRREQANNILARVTRANSFLE...</td>\n",
       "      <td>COc1ccc(cc1OC)C(Nc1ccc(cc1)C(N)=N)C(=O)NCc1ccccc1</td>\n",
       "      <td>True</td>\n",
       "    </tr>\n",
       "    <tr>\n",
       "      <th>2</th>\n",
       "      <td>MGAIGLLWLLPLLLSTAAVGSGMGTGQRAGSPAAGPPLQPREPLSY...</td>\n",
       "      <td>COc1cc(ccc1Nc1nc(Nc2ccccc2S(=O)(=O)C(C)C)c2[nH...</td>\n",
       "      <td>True</td>\n",
       "    </tr>\n",
       "    <tr>\n",
       "      <th>3</th>\n",
       "      <td>MGRPLHLVLLSASLAGLLLLGESLFIRREQANNILARVTRANSFLE...</td>\n",
       "      <td>C[n+]1ccc(CNC(=O)c2cc3cc(N)ccc3n2Cc2cccc(c2)C(...</td>\n",
       "      <td>True</td>\n",
       "    </tr>\n",
       "    <tr>\n",
       "      <th>4</th>\n",
       "      <td>MAAAAAAGAGPEMVRGQVFDVGPRYTNLSYIGEGAYGMVCSAYDNV...</td>\n",
       "      <td>C[C@@H](NC(=O)c1ccc(cc1F)-c1cc(cnc1N)[C@H]1CCC...</td>\n",
       "      <td>True</td>\n",
       "    </tr>\n",
       "    <tr>\n",
       "      <th>...</th>\n",
       "      <td>...</td>\n",
       "      <td>...</td>\n",
       "      <td>...</td>\n",
       "    </tr>\n",
       "    <tr>\n",
       "      <th>1134011</th>\n",
       "      <td>MSNSVPLLCFWSLCYCFAAGSPVPFGPEGRLEDKLHKPKATQTEVK...</td>\n",
       "      <td>COc1cc(cc(CO)c1OC)C(C)NC(=O)n1sc2ncccc2c1=O</td>\n",
       "      <td>True</td>\n",
       "    </tr>\n",
       "    <tr>\n",
       "      <th>1134012</th>\n",
       "      <td>MEVQLGLGRVYPRPPSKTYRGAFQNLFQSVREAIQNPGPRHPEAAS...</td>\n",
       "      <td>Cc1c(Cl)c(ccc1N1[C@H](CCC1=O)[C@@H](O)C(F)(F)F...</td>\n",
       "      <td>True</td>\n",
       "    </tr>\n",
       "    <tr>\n",
       "      <th>1134013</th>\n",
       "      <td>MEPSATPGAQMGVPPGSREPSPVPPDYEDEFLRYLWRDYLYPKQYE...</td>\n",
       "      <td>O=C1CCC(N1Cc1csc(n1)-c1ccccc1)c1ccccc1-c1ccccc1</td>\n",
       "      <td>True</td>\n",
       "    </tr>\n",
       "    <tr>\n",
       "      <th>1134014</th>\n",
       "      <td>MVNSTHRGMHTSLHLWNRSSYRLHSNASESLGKGYSDGGCYEQLFV...</td>\n",
       "      <td>CC(=O)N[C@@H](CCCNC(N)=N)C(=O)N[C@H]1CC(=O)NCC...</td>\n",
       "      <td>True</td>\n",
       "    </tr>\n",
       "    <tr>\n",
       "      <th>1134015</th>\n",
       "      <td>MQYLNIKEDCNAMAFCAKMRSSKKTEVNLEAPEPGVEVIFYLSDRE...</td>\n",
       "      <td>CCC1(CCN(CC1)C(=O)OC(C)(C)C)n1nc(Nc2ccc(C(=O)N...</td>\n",
       "      <td>True</td>\n",
       "    </tr>\n",
       "  </tbody>\n",
       "</table>\n",
       "<p>1134016 rows × 3 columns</p>\n",
       "</div>"
      ],
      "text/plain": [
       "                                                       seq  \\\n",
       "0        MAPPSEETPLIPQRSCSLLSTEAGALHVLLPARGPGPPQRLSFSFG...   \n",
       "1        MGRPLHLVLLSASLAGLLLLGESLFIRREQANNILARVTRANSFLE...   \n",
       "2        MGAIGLLWLLPLLLSTAAVGSGMGTGQRAGSPAAGPPLQPREPLSY...   \n",
       "3        MGRPLHLVLLSASLAGLLLLGESLFIRREQANNILARVTRANSFLE...   \n",
       "4        MAAAAAAGAGPEMVRGQVFDVGPRYTNLSYIGEGAYGMVCSAYDNV...   \n",
       "...                                                    ...   \n",
       "1134011  MSNSVPLLCFWSLCYCFAAGSPVPFGPEGRLEDKLHKPKATQTEVK...   \n",
       "1134012  MEVQLGLGRVYPRPPSKTYRGAFQNLFQSVREAIQNPGPRHPEAAS...   \n",
       "1134013  MEPSATPGAQMGVPPGSREPSPVPPDYEDEFLRYLWRDYLYPKQYE...   \n",
       "1134014  MVNSTHRGMHTSLHLWNRSSYRLHSNASESLGKGYSDGGCYEQLFV...   \n",
       "1134015  MQYLNIKEDCNAMAFCAKMRSSKKTEVNLEAPEPGVEVIFYLSDRE...   \n",
       "\n",
       "                                                    smiles   hit  \n",
       "0        CN(c1ccccc1CNc1nc(cc(N)c1C(=N)C(N)=O)-c1cc(F)c...  True  \n",
       "1        COc1ccc(cc1OC)C(Nc1ccc(cc1)C(N)=N)C(=O)NCc1ccccc1  True  \n",
       "2        COc1cc(ccc1Nc1nc(Nc2ccccc2S(=O)(=O)C(C)C)c2[nH...  True  \n",
       "3        C[n+]1ccc(CNC(=O)c2cc3cc(N)ccc3n2Cc2cccc(c2)C(...  True  \n",
       "4        C[C@@H](NC(=O)c1ccc(cc1F)-c1cc(cnc1N)[C@H]1CCC...  True  \n",
       "...                                                    ...   ...  \n",
       "1134011        COc1cc(cc(CO)c1OC)C(C)NC(=O)n1sc2ncccc2c1=O  True  \n",
       "1134012  Cc1c(Cl)c(ccc1N1[C@H](CCC1=O)[C@@H](O)C(F)(F)F...  True  \n",
       "1134013    O=C1CCC(N1Cc1csc(n1)-c1ccccc1)c1ccccc1-c1ccccc1  True  \n",
       "1134014  CC(=O)N[C@@H](CCCNC(N)=N)C(=O)N[C@H]1CC(=O)NCC...  True  \n",
       "1134015  CCC1(CCN(CC1)C(=O)OC(C)(C)C)n1nc(Nc2ccc(C(=O)N...  True  \n",
       "\n",
       "[1134016 rows x 3 columns]"
      ]
     },
     "execution_count": 1,
     "metadata": {},
     "output_type": "execute_result"
    }
   ],
   "source": []
  }
 ],
 "metadata": {
  "kernelspec": {
   "display_name": "Python 3 (ipykernel)",
   "language": "python",
   "name": "python3"
  },
  "language_info": {
   "codemirror_mode": {
    "name": "ipython",
    "version": 3
   },
   "file_extension": ".py",
   "mimetype": "text/x-python",
   "name": "python",
   "nbconvert_exporter": "python",
   "pygments_lexer": "ipython3",
   "version": "3.7.13"
  }
 },
 "nbformat": 4,
 "nbformat_minor": 5
}
