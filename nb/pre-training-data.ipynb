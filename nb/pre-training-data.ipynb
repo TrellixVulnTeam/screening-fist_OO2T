{
 "cells": [
  {
   "cell_type": "code",
   "execution_count": 1,
   "id": "bb6a426a-1c59-4f32-8bde-b32329ca0db9",
   "metadata": {},
   "outputs": [
    {
     "name": "stdout",
     "output_type": "stream",
     "text": [
      "o3f: 1134016 points\n",
      "3527 unique sequences\n",
      "174532 unique compounds\n",
      "984877 hits\n",
      "149139 misses\n"
     ]
    },
    {
     "data": {
      "image/png": "[encoded data removed]",
      "text/plain": [
       "<Figure size 432x288 with 1 Axes>"
      ]
     },
     "metadata": {
      "needs_background": "light"
     },
     "output_type": "display_data"
    }
   ],
   "source": [
    "import pandas as pd\n",
    "import matplotlib.pyplot as plt\n",
    "\n",
    "o3f = pd.read_csv('model-data/o3f.csv')\n",
    "print(f\"o3f: {len(o3f)} points\\n{len(o3f['seq'].unique())} unique sequences\\n{len(o3f['smiles'].unique())} unique compounds\")\n",
    "nhits = sum(o3f['hit'])\n",
    "nmisses = len(o3f) - nhits \n",
    "print(f\"{nhits} hits\\n{nmisses} misses\")\n",
    "\n",
    "plt.bar(x=['Hits','Misses'],\n",
    "        height=[nhits, nmisses],\n",
    "       )\n",
    "plt.show()"
   ]
  },
  {
   "cell_type": "code",
   "execution_count": 2,
   "id": "3bff754a-9333-4a5e-9121-a913730ed479",
   "metadata": {},
   "outputs": [
    {
     "data": {
      "text/plain": [
       "0.1315140174389074"
      ]
     },
     "execution_count": 2,
     "metadata": {},
     "output_type": "execute_result"
    }
   ],
   "source": [
    "149139 / (984877  + 149139)"
   ]
  },
  {
   "cell_type": "code",
   "execution_count": 3,
   "id": "4f1d4b34-7fe9-4185-aaac-dbf741261e14",
   "metadata": {},
   "outputs": [
    {
     "data": {
      "image/png": "[encoded data removed]",
      "text/plain": [
       "<Figure size 576x288 with 1 Axes>"
      ]
     },
     "metadata": {
      "needs_background": "light"
     },
     "output_type": "display_data"
    }
   ],
   "source": [
    "plt.figure(figsize=(8,4))\n",
    "plt.bar(x=['Hits','Misses'],\n",
    "        height=[nhits, nmisses],\n",
    "       )\n",
    "plt.xlabel('Count')\n",
    "plt.title('Number of Hits and Misses in o3f Pre-Training Set')\n",
    "plt.savefig('img/o3f-hits-hist.png')\n",
    "plt.show()"
   ]
  },
  {
   "cell_type": "code",
   "execution_count": null,
   "id": "c26ec76b-133c-40f6-9997-fb1018e51cc7",
   "metadata": {
    "tags": []
   },
   "outputs": [
    {
     "name": "stderr",
     "output_type": "stream",
     "text": [
      "  1%|▌                                                                               | 7297/1134016 [00:19<52:33, 357.29it/s]"
     ]
    }
   ],
   "source": [
    "%%time\n",
    "import os\n",
    "from tqdm import tqdm\n",
    "from rdkit.Chem import AllChem as Chem\n",
    "from rdkit.Chem import Draw\n",
    "from rdkit.Chem.Scaffolds import MurckoScaffold\n",
    "from rdkit.Chem import Crippen \n",
    "\n",
    "\n",
    "\n",
    "feature_fns = [\n",
    "        'CalcLabuteASA', 'CalcTPSA', 'CalcExactMolWt',\n",
    "        'CalcNumLipinskiHBD', 'CalcNumLipinskiHBA', 'CalcNumHBD', 'CalcNumHBA',\n",
    "        'CalcNumRotatableBonds', 'CalcNumRings', 'CalcNumAromaticRings',\n",
    "        'CalcNumSaturatedRings', 'CalcNumHeterocycles', 'CalcNumAromaticHeterocycles',\n",
    "        'CalcNumAromaticCarbocycles', 'CalcNumSaturatedHeterocycles',\n",
    "        'CalcNumSaturatedCarbocycles', 'CalcNumAliphaticRings',\n",
    "        'CalcNumAliphaticHeterocycles', 'CalcNumAliphaticCarbocycles', 'CalcNumHeteroatoms',\n",
    "        'CalcNumAmideBonds', 'CalcFractionCSP3', 'CalcChi0v', 'CalcChi1v', 'CalcChi2v', 'CalcChi3v',\n",
    "        'CalcChi4v', 'CalcChi0n', 'CalcChi1n', 'CalcChi2n', 'CalcChi3n', 'CalcChi4n', 'CalcHallKierAlpha',\n",
    "        'CalcKappa1', 'CalcKappa2', 'CalcKappa3', 'CalcNumSpiroAtoms', 'CalcNumBridgeheadAtoms',\n",
    "        'MolLogP'\n",
    "        ]\n",
    "\n",
    "feature_fns =  [i for i in feature_fns if i in Chem.__dict__ or i in Crippen.__dict__]\n",
    "\n",
    "_fn = lambda mol, fn_name : Chem.__dict__[fn_name](mol) if fn_name in Chem.__dict__ else Crippen.__dict__[fn_name](mol)\n",
    "fn = lambda mol : {fn_name.replace('Calc',''):_fn(mol, fn_name) for fn_name in feature_fns} \n",
    "\n",
    "props_path = 'o3f-props.csv'\n",
    "\n",
    "if not os.path.exists(props_path):\n",
    "    _props = {}\n",
    "    for i in tqdm(o3f['smiles']):\n",
    "        m = Chem.MolFromSmiles(i)\n",
    "        mh = Chem.AddHs(m)\n",
    "        _props[i] = fn(mh)\n",
    "    props = pd.DataFrame(_props).T\n",
    "    props.to_csv(props_path, index=False)\n",
    "else:\n",
    "    props = pd.read_csv(props_path)\n",
    "props.head()"
   ]
  },
  {
   "cell_type": "code",
   "execution_count": null,
   "id": "3b208c2c-8951-40c6-bc3e-ad9818cf956a",
   "metadata": {},
   "outputs": [],
   "source": []
  }
 ],
 "metadata": {
  "kernelspec": {
   "display_name": "Python 3 (ipykernel)",
   "language": "python",
   "name": "python3"
  },
  "language_info": {
   "codemirror_mode": {
    "name": "ipython",
    "version": 3
   },
   "file_extension": ".py",
   "mimetype": "text/x-python",
   "name": "python",
   "nbconvert_exporter": "python",
   "pygments_lexer": "ipython3",
   "version": "3.7.13"
  }
 },
 "nbformat": 4,
 "nbformat_minor": 5
}
